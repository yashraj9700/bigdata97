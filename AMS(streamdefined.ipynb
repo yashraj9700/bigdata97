{
 "cells": [
  {
   "cell_type": "code",
   "execution_count": 1,
   "id": "5634bd13-3347-43a5-ae43-c360f79a6cc1",
   "metadata": {},
   "outputs": [
    {
     "name": "stdout",
     "output_type": "stream",
     "text": [
      "The surprise number (Second Frequency Moment Estimate) is: 162.5\n"
     ]
    }
   ],
   "source": [
    "import random\n",
    "\n",
    "# AMS Algorithm Implementation\n",
    "def ams_algorithm(stream, x_values):\n",
    "    n = len(stream)\n",
    "\n",
    "    # Initialize the sum of square estimates\n",
    "    sum_squared_estimates = 0\n",
    "\n",
    "    # Perform the AMS estimate for each x_value\n",
    "    for x in x_values:\n",
    "        # Choose a random element r from the stream\n",
    "        r = stream[x - 1]  # x is 1-indexed, so we use x-1 for 0-indexed lists\n",
    "\n",
    "        # Count the number of times r appears in the stream\n",
    "        count_r = stream.count(r)\n",
    "\n",
    "        # Calculate the square of count_r and update the sum of square estimates\n",
    "        sum_squared_estimates += n * (2 * count_r - 1)\n",
    "\n",
    "    # Return the average of the square estimates\n",
    "    return sum_squared_estimates / len(x_values)\n",
    "\n",
    "# Given stream and x values\n",
    "stream = [2, 3, 7, 1, 5, 8, 5, 7, 9, 6, 4, 4, 5, 6, 5, 8, 8, 5,2, 2, 2, 1, 1, 6, 7]\n",
    "x_values = [1, 3, 5, 10]  # Values of x1, x2, x3, and x4 as 1, 3, 5, and 10\n",
    "\n",
    "# Calculate the surprise number using AMS algorithm\n",
    "surprise_number = ams_algorithm(stream, x_values)\n",
    "\n",
    "# Output the result\n",
    "print(\"The surprise number (Second Frequency Moment Estimate) is:\", surprise_number)"
   ]
  }
 ],
 "metadata": {
  "kernelspec": {
   "display_name": "Python 3 (ipykernel)",
   "language": "python",
   "name": "python3"
  },
  "language_info": {
   "codemirror_mode": {
    "name": "ipython",
    "version": 3
   },
   "file_extension": ".py",
   "mimetype": "text/x-python",
   "name": "python",
   "nbconvert_exporter": "python",
   "pygments_lexer": "ipython3",
   "version": "3.11.4"
  }
 },
 "nbformat": 4,
 "nbformat_minor": 5
}
