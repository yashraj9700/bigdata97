{
 "cells": [
  {
   "cell_type": "code",
   "execution_count": 2,
   "id": "ee171930-4261-4bb6-a4fd-3709a3a33961",
   "metadata": {},
   "outputs": [
    {
     "name": "stdout",
     "output_type": "stream",
     "text": [
      "Element 7 may be in the set.\n",
      "Element 5 may be in the set.\n"
     ]
    }
   ],
   "source": [
    "# Define the Bloom Filter class\n",
    "class BloomFilter:\n",
    "    def __init__(self, size):\n",
    "        self.size = size\n",
    "        self.bit_array = [0] * size\n",
    "\n",
    "    def hash1(self, x):\n",
    "        return (x + 1) % self.size\n",
    "\n",
    "    def hash2(self, x):\n",
    "        return (2 * x + 5) % self.size\n",
    "\n",
    "    def add(self, x):\n",
    "        index1 = self.hash1(x)\n",
    "        index2 = self.hash2(x)\n",
    "        self.bit_array[index1] = 1\n",
    "        self.bit_array[index2] = 1\n",
    "\n",
    "    def check(self, x):\n",
    "        index1 = self.hash1(x)\n",
    "        index2 = self.hash2(x)\n",
    "        return self.bit_array[index1] == 1 and self.bit_array[index2] == 1\n",
    "\n",
    "# Initialize the Bloom filter with a specified size\n",
    "bloom_filter = BloomFilter(13)\n",
    "\n",
    "# Add elements to the Bloom filter\n",
    "elements_to_add = [8, 17, 25, 14, 20]\n",
    "for elem in elements_to_add:\n",
    "    bloom_filter.add(elem)\n",
    "\n",
    "# Check for the presence of certain integers\n",
    "check_elements = [7, 5]\n",
    "for elem in check_elements:\n",
    "    if bloom_filter.check(elem):\n",
    "        print(f\"Element {elem} may be in the set.\")\n",
    "    else:\n",
    "        print(f\"Element {elem} is definitely not in the set.\")\n"
   ]
  }
 ],
 "metadata": {
  "kernelspec": {
   "display_name": "Python 3 (ipykernel)",
   "language": "python",
   "name": "python3"
  },
  "language_info": {
   "codemirror_mode": {
    "name": "ipython",
    "version": 3
   },
   "file_extension": ".py",
   "mimetype": "text/x-python",
   "name": "python",
   "nbconvert_exporter": "python",
   "pygments_lexer": "ipython3",
   "version": "3.11.4"
  }
 },
 "nbformat": 4,
 "nbformat_minor": 5
}
