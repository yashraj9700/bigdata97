{
 "cells": [
  {
   "cell_type": "code",
   "execution_count": 1,
   "id": "26fef9e0-44a3-45d9-8a73-4f2b8f9fc357",
   "metadata": {},
   "outputs": [
    {
     "name": "stdout",
     "output_type": "stream",
     "text": [
      "Element: 3, Hash: 16, Binary Hash: 10000, Tail Length: 4\n",
      "Element: 1, Hash: 10, Binary Hash: 1010, Tail Length: 1\n",
      "Element: 4, Hash: 19, Binary Hash: 10011, Tail Length: 0\n",
      "Element: 1, Hash: 10, Binary Hash: 1010, Tail Length: 1\n",
      "Element: 5, Hash: 22, Binary Hash: 10110, Tail Length: 1\n",
      "Element: 9, Hash: 2, Binary Hash: 10, Tail Length: 1\n",
      "Element: 2, Hash: 13, Binary Hash: 1101, Tail Length: 0\n",
      "Element: 6, Hash: 25, Binary Hash: 11001, Tail Length: 0\n",
      "Element: 5, Hash: 22, Binary Hash: 10110, Tail Length: 1\n",
      "\n",
      "Estimated number of distinct elements with hash function 3x + 7 mod 32: 16\n",
      "Element: 3, Hash: 7, Binary Hash: 111, Tail Length: 0\n",
      "Element: 1, Hash: 3, Binary Hash: 11, Tail Length: 0\n",
      "Element: 4, Hash: 9, Binary Hash: 1001, Tail Length: 0\n",
      "Element: 1, Hash: 3, Binary Hash: 11, Tail Length: 0\n",
      "Element: 5, Hash: 11, Binary Hash: 1011, Tail Length: 0\n",
      "Element: 9, Hash: 19, Binary Hash: 10011, Tail Length: 0\n",
      "Element: 2, Hash: 5, Binary Hash: 101, Tail Length: 0\n",
      "Element: 6, Hash: 13, Binary Hash: 1101, Tail Length: 0\n",
      "Element: 5, Hash: 11, Binary Hash: 1011, Tail Length: 0\n",
      "\n",
      "Estimated number of distinct elements with hash function 2x + 1 mod 32: 1\n"
     ]
    }
   ],
   "source": [
    "def hash_value(x, a, b, m):\n",
    "    # Hash function: (a*x + b) mod m\n",
    "    return (a * x + b) % m\n",
    "\n",
    "def tail_length(bin_str):\n",
    "    # Find the length of trailing zeros in the binary representation of the hash value\n",
    "    return len(bin_str) - len(bin_str.rstrip('0'))\n",
    "\n",
    "def flajolet_martin(stream, a, b, m):\n",
    "    max_tail_length = 0\n",
    "    tail_lengths = []  # List to store tail lengths for each element\n",
    "\n",
    "    for element in stream:\n",
    "        # Hash the element and convert to binary\n",
    "        hash_val = hash_value(element, a, b, m)\n",
    "        bin_hash = format(hash_val, 'b').zfill(len(bin(hash_val)[2:]))  # Convert to binary and pad with zeros\n",
    "\n",
    "        # Calculate the tail length of the binary hash\n",
    "        t_len = tail_length(bin_hash)\n",
    "        tail_lengths.append((element, hash_val, bin_hash, t_len))  # Store element, hash, and tail length\n",
    "\n",
    "        # Keep track of the maximum tail length\n",
    "        max_tail_length = max(max_tail_length, t_len)\n",
    "\n",
    "    # Print the tail lengths\n",
    "    for elem, h_val, bin_h, t_len in tail_lengths:\n",
    "        print(f\"Element: {elem}, Hash: {h_val}, Binary Hash: {bin_h}, Tail Length: {t_len}\")\n",
    "\n",
    "    # Estimate the number of distinct elements\n",
    "    return 2 ** max_tail_length\n",
    "\n",
    "# Example usage\n",
    "stream = [3, 1, 4, 1, 5, 9, 2, 6, 5]\n",
    "\n",
    "# Use hash function 3x + 7 mod 32\n",
    "a1, b1, m1 = 3, 7, 32\n",
    "estimate1 = flajolet_martin(stream, a1, b1, m1)\n",
    "print(f\"\\nEstimated number of distinct elements with hash function 3x + 7 mod 32: {estimate1}\")\n",
    "\n",
    "# Use hash function 2x + 1 mod 32\n",
    "a2, b2, m2 = 2, 1, 32\n",
    "estimate2 = flajolet_martin(stream, a2, b2, m2)\n",
    "print(f\"\\nEstimated number of distinct elements with hash function 2x + 1 mod 32: {estimate2}\")\n"
   ]
  }
 ],
 "metadata": {
  "kernelspec": {
   "display_name": "Python 3 (ipykernel)",
   "language": "python",
   "name": "python3"
  },
  "language_info": {
   "codemirror_mode": {
    "name": "ipython",
    "version": 3
   },
   "file_extension": ".py",
   "mimetype": "text/x-python",
   "name": "python",
   "nbconvert_exporter": "python",
   "pygments_lexer": "ipython3",
   "version": "3.11.4"
  }
 },
 "nbformat": 4,
 "nbformat_minor": 5
}
